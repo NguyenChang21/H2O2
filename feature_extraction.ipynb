{
 "cells": [
  {
   "cell_type": "code",
   "execution_count": 151,
   "metadata": {},
   "outputs": [],
   "source": [
    "import cv2\n",
    "import numpy as np\n",
    "from skimage import color, feature, io\n",
    "from scipy.stats import skew, kurtosis\n",
    "from scipy import ndimage\n",
    "# from skimage.feature import greycomatrix, greycoprops\n",
    "import pandas as pd\n",
    "import os\n",
    "\n",
    "\n",
    "\n"
   ]
  },
  {
   "cell_type": "code",
   "execution_count": 152,
   "metadata": {},
   "outputs": [],
   "source": [
    "def calculate_color_features(image):\n",
    "    # Convert color spaces\n",
    "    hsv_image = cv2.cvtColor(image, cv2.COLOR_RGB2HSV)\n",
    "    lab_image = cv2.cvtColor(image, cv2.COLOR_RGB2Lab)\n",
    "\n",
    "    # Prepare to collect features\n",
    "    channels = [image, hsv_image, lab_image]\n",
    "    channel_names = ['R', 'G', 'B', 'H', 'S', 'V', 'L*', 'a*', 'b*']\n",
    "    features = {}\n",
    "\n",
    "    # Calculate mean, skewness, and kurtosis for each channel\n",
    "    for idx, channel_set in enumerate(channels):\n",
    "        for c in range(3):\n",
    "            channel_data = channel_set[:, :, c].flatten()\n",
    "            features[f'mean_{channel_names[idx*3 + c]}'] = np.mean(channel_data)\n",
    "            features[f'skew_{channel_names[idx*3 + c]}'] = skew(channel_data)\n",
    "            features[f'kurtosis_{channel_names[idx*3 + c]}'] = kurtosis(channel_data)\n",
    "\n",
    "    return features"
   ]
  },
  {
   "cell_type": "code",
   "execution_count": 153,
   "metadata": {},
   "outputs": [],
   "source": [
    "import cv2\n",
    "import numpy as np\n",
    "import mahotas as mh\n",
    "from scipy.stats import skew, kurtosis\n",
    "\n",
    "def calculate_texture_features(image):\n",
    "    gray_image = cv2.cvtColor(image, cv2.COLOR_RGB2GRAY)\n",
    "    glcm = mh.features.haralick(gray_image)\n",
    "    texture_features = {\n",
    "        'contrast': glcm.mean(axis=0)[1],\n",
    "        'correlation': glcm.mean(axis=0)[2],\n",
    "        'homogeneity': glcm.mean(axis=0)[4],\n",
    "        'energy': glcm.mean(axis=0)[8]\n",
    "    }\n",
    "    return texture_features\n",
    "\n",
    "\n"
   ]
  },
  {
   "cell_type": "code",
   "execution_count": null,
   "metadata": {},
   "outputs": [],
   "source": []
  },
  {
   "cell_type": "code",
   "execution_count": 154,
   "metadata": {},
   "outputs": [],
   "source": [
    "def calculate_additional_features(image):\n",
    "    gray_image = cv2.cvtColor(image, cv2.COLOR_RGB2GRAY)\n",
    "    entropy = np.sum(gray_image * np.log2(gray_image + 1))\n",
    "    intensity = np.mean(gray_image)\n",
    "    return {'entropy': entropy, 'intensity': intensity}\n"
   ]
  },
  {
   "cell_type": "code",
   "execution_count": 155,
   "metadata": {},
   "outputs": [],
   "source": [
    "# # Load the image\n",
    "# image = cv2.imread('C:/vs code/H2O2/h202/raw data/data cut/100uM new/IMG20240509140325.jpg')\n",
    "# image = cv2.cvtColor(image, cv2.COLOR_BGR2RGB)\n",
    "\n",
    "# # Calculate features\n",
    "# color_features = calculate_color_features(image)\n",
    "# texture_features = calculate_texture_features(image)\n",
    "# additional_features = calculate_additional_features(image)\n",
    "\n",
    "# # Combine all features\n",
    "# all_features = {**color_features, **texture_features, **additional_features}\n",
    "# print(all_features)"
   ]
  },
  {
   "cell_type": "code",
   "execution_count": 156,
   "metadata": {},
   "outputs": [
    {
     "name": "stderr",
     "output_type": "stream",
     "text": [
      "c:\\Python311\\Lib\\site-packages\\numpy\\core\\fromnumeric.py:86: RuntimeWarning: overflow encountered in reduce\n",
      "  return ufunc.reduce(obj, axis, dtype, out, **passkwargs)\n"
     ]
    },
    {
     "name": "stdout",
     "output_type": "stream",
     "text": [
      "Features saved to image_features9.xlsx\n"
     ]
    }
   ],
   "source": [
    "# Path to the folder containing images\n",
    "folder_path = 'C:/vs code/H2O2/h202/raw data/data cut/90uM new'\n",
    "\n",
    "# List to store all image features\n",
    "all_image_features = []\n",
    "\n",
    "# Iterate over each image in the folder\n",
    "for filename in os.listdir(folder_path):\n",
    "    if filename.endswith('.jpg') or filename.endswith('.png'):\n",
    "        # Load the image\n",
    "        image_path = os.path.join(folder_path, filename)\n",
    "        image = cv2.imread(image_path)\n",
    "        image = cv2.cvtColor(image, cv2.COLOR_BGR2RGB)\n",
    "\n",
    "        # Calculate color features\n",
    "        color_features = calculate_color_features(image)\n",
    "\n",
    "        # Calculate texture features\n",
    "        texture_features = calculate_texture_features(image)\n",
    "\n",
    "        # Calculate entropy and intensity\n",
    "        add_ft = calculate_additional_features(image)\n",
    "\n",
    "        # Combine all features\n",
    "        all_features = {**color_features, **texture_features, **add_ft}\n",
    "\n",
    "        # Add filename as a feature\n",
    "        all_features['filename'] = filename\n",
    "\n",
    "        # Append features to the list\n",
    "        all_image_features.append(all_features)\n",
    "\n",
    "# Convert the list of dictionaries to a DataFrame\n",
    "df = pd.DataFrame(all_image_features)\n",
    "\n",
    "# Save DataFrame to Excel file\n",
    "output_file = 'image_features9.xlsx'\n",
    "df.to_excel(output_file, index=False)\n",
    "\n",
    "print(f\"Features saved to {output_file}\")"
   ]
  }
 ],
 "metadata": {
  "kernelspec": {
   "display_name": "Python 3",
   "language": "python",
   "name": "python3"
  },
  "language_info": {
   "codemirror_mode": {
    "name": "ipython",
    "version": 3
   },
   "file_extension": ".py",
   "mimetype": "text/x-python",
   "name": "python",
   "nbconvert_exporter": "python",
   "pygments_lexer": "ipython3",
   "version": "3.11.0"
  }
 },
 "nbformat": 4,
 "nbformat_minor": 2
}
